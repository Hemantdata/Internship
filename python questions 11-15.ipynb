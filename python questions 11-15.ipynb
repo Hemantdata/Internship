{
 "cells": [
  {
   "cell_type": "code",
   "execution_count": 2,
   "id": "e8628d95",
   "metadata": {},
   "outputs": [
    {
     "name": "stdout",
     "output_type": "stream",
     "text": [
      "Enter A number10\n",
      "Factorial of 10 is 3628800\n"
     ]
    }
   ],
   "source": [
    "def factorial(n):\n",
    "    \n",
    "    return 1 if (n==1 or n==0) else n * factorial(n - 1) \n",
    "\n",
    "\n",
    "num = int(input(\"Enter A number\"))\n",
    "print(\"Factorial of\",num,\"is\",factorial(num))"
   ]
  },
  {
   "cell_type": "code",
   "execution_count": 3,
   "id": "e6bcfec5",
   "metadata": {},
   "outputs": [
    {
     "name": "stdout",
     "output_type": "stream",
     "text": [
      "Enter a number: 10\n",
      "The number 10 is Composite.\n"
     ]
    }
   ],
   "source": [
    "def is_prime(n):\n",
    "    \"\"\"Check if a number is prime.\"\"\"\n",
    "    if n <= 1:\n",
    "        return False  # 0 and 1 are not prime numbers\n",
    "    if n <= 3:\n",
    "        return True   # 2 and 3 are prime numbers\n",
    "    if n % 2 == 0 or n % 3 == 0:\n",
    "        return False  # Multiples of 2 or 3 are not prime numbers\n",
    "    \n",
    "    i = 5\n",
    "    while i * i <= n:\n",
    "        if n % i == 0 or n % (i + 2) == 0:\n",
    "            return False\n",
    "        i += 6\n",
    "\n",
    "    return True\n",
    "\n",
    "def check_number_type(n):\n",
    "    \"\"\"Determine if a number is prime or composite.\"\"\"\n",
    "    if is_prime(n):\n",
    "        return \"Prime\"\n",
    "    else:\n",
    "        return \"Composite\"\n",
    "\n",
    "# Example usage\n",
    "try:\n",
    "    number = int(input(\"Enter a number: \"))\n",
    "    if number < 0:\n",
    "        print(\"Please enter a non-negative integer.\")\n",
    "    else:\n",
    "        result = check_number_type(number)\n",
    "        print(f\"The number {number} is {result}.\")\n",
    "except ValueError:\n",
    "    print(\"Invalid input. Please enter an integer.\")\n"
   ]
  },
  {
   "cell_type": "code",
   "execution_count": 4,
   "id": "69ef8f60",
   "metadata": {},
   "outputs": [
    {
     "name": "stdout",
     "output_type": "stream",
     "text": [
      "Enter a string: \"radar\"\n",
      "\"\"radar\"\" is a palindrome.\n"
     ]
    }
   ],
   "source": [
    "def is_palindrome(s):\n",
    "    \"\"\"Check if the given string is a palindrome.\"\"\"\n",
    "    # Remove any non-alphanumeric characters and convert to lowercase\n",
    "    clean_s = ''.join(c.lower() for c in s if c.isalnum())\n",
    "    \n",
    "    # Check if the cleaned string is equal to its reverse\n",
    "    return clean_s == clean_s[::-1]\n",
    "\n",
    "# Example usage\n",
    "def main():\n",
    "    user_input = input(\"Enter a string: \")\n",
    "    if is_palindrome(user_input):\n",
    "        print(f'\"{user_input}\" is a palindrome.')\n",
    "    else:\n",
    "        print(f'\"{user_input}\" is not a palindrome.')\n",
    "\n",
    "# Run the main function\n",
    "if __name__ == \"__main__\":\n",
    "    main()\n"
   ]
  },
  {
   "cell_type": "code",
   "execution_count": 7,
   "id": "93f27339",
   "metadata": {},
   "outputs": [
    {
     "name": "stdout",
     "output_type": "stream",
     "text": [
      "Enter the first side: 2\n",
      "Enter the second side: 2\n",
      "The third side of the right-angled triangle is: 0.00\n"
     ]
    }
   ],
   "source": [
    "import math\n",
    "\n",
    "def find_third_side(side1, side2):\n",
    "    \"\"\"Determine the third side of a right-angled triangle.\"\"\"\n",
    "    # Determine which side is the hypotenuse\n",
    "    if side1 > side2:\n",
    "        hypotenuse = side1\n",
    "        side = side2\n",
    "    else:\n",
    "        hypotenuse = side2\n",
    "        side = side1\n",
    "\n",
    "    # Calculate the third side\n",
    "    if hypotenuse == side1 or hypotenuse == side2:\n",
    "        # Check if one side is the hypotenuse\n",
    "        third_side = math.sqrt(hypotenuse**2 - side**2)\n",
    "    else:\n",
    "        # Calculate the hypotenuse\n",
    "        third_side = math.sqrt(side1**2 + side2**2)\n",
    "\n",
    "    return third_side\n",
    "\n",
    "# Example usage\n",
    "def main():\n",
    "    side1 = float(input(\"Enter the first side: \"))\n",
    "    side2 = float(input(\"Enter the second side: \"))\n",
    "\n",
    "    if side1 <= 0 or side2 <= 0:\n",
    "        print(\"Both sides must be positive numbers.\")\n",
    "    else:\n",
    "        third_side = find_third_side(side1, side2)\n",
    "        print(f\"The third side of the right-angled triangle is: {third_side:.2f}\")\n",
    "\n",
    "# Run the main function\n",
    "if __name__ == \"__main__\":\n",
    "    main()\n"
   ]
  },
  {
   "cell_type": "code",
   "execution_count": 8,
   "id": "d473b48c",
   "metadata": {},
   "outputs": [
    {
     "name": "stdout",
     "output_type": "stream",
     "text": [
      "Enter a string: \"hello world\"\n",
      "'\"': 2\n",
      "'h': 1\n",
      "'e': 1\n",
      "'l': 3\n",
      "'o': 2\n",
      "' ': 1\n",
      "'w': 1\n",
      "'r': 1\n",
      "'d': 1\n"
     ]
    }
   ],
   "source": [
    "def character_frequency(s):\n",
    "    \"\"\"Print the frequency of each character in the given string.\"\"\"\n",
    "    # Create a dictionary to store character frequencies\n",
    "    frequency = {}\n",
    "\n",
    "    # Iterate through each character in the string\n",
    "    for char in s:\n",
    "        # Update the frequency count for the character\n",
    "        if char in frequency:\n",
    "            frequency[char] += 1\n",
    "        else:\n",
    "            frequency[char] = 1\n",
    "\n",
    "    # Print the frequency of each character\n",
    "    for char, count in frequency.items():\n",
    "        print(f\"'{char}': {count}\")\n",
    "\n",
    "# Example usage\n",
    "def main():\n",
    "    user_input = input(\"Enter a string: \")\n",
    "    character_frequency(user_input)\n",
    "\n",
    "# Run the main function\n",
    "if __name__ == \"__main__\":\n",
    "    main()\n",
    "\n"
   ]
  },
  {
   "cell_type": "code",
   "execution_count": null,
   "id": "bd0a7dbd",
   "metadata": {},
   "outputs": [],
   "source": []
  }
 ],
 "metadata": {
  "kernelspec": {
   "display_name": "Python 3 (ipykernel)",
   "language": "python",
   "name": "python3"
  },
  "language_info": {
   "codemirror_mode": {
    "name": "ipython",
    "version": 3
   },
   "file_extension": ".py",
   "mimetype": "text/x-python",
   "name": "python",
   "nbconvert_exporter": "python",
   "pygments_lexer": "ipython3",
   "version": "3.11.5"
  }
 },
 "nbformat": 4,
 "nbformat_minor": 5
}
